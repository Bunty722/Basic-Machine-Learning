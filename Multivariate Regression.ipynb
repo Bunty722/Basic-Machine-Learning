{
 "cells": [
  {
   "cell_type": "markdown",
   "id": "4769d7f5-e5be-4207-ba92-37d37923a9d8",
   "metadata": {},
   "source": [
    "### Multivariate Regression"
   ]
  },
  {
   "cell_type": "code",
   "execution_count": 6,
   "id": "9e06d07d-734b-4b5f-a8f7-45ce4a934e18",
   "metadata": {},
   "outputs": [
    {
     "name": "stdout",
     "output_type": "stream",
     "text": [
      "Coefficients (beta): [91.75 -0.5  -6.25]\n",
      "Predicted values: [72.   65.25 51.75 38.25 24.75]\n",
      "Mean Squared Error: 2320.85\n",
      "Predicted value for new input: 11.75\n"
     ]
    }
   ],
   "source": [
    "import numpy as np\n",
    "\n",
    "# Example data: Features (X) and Target (y)\n",
    "# X should include a column of 1s to account for the intercept term (bias)\n",
    "X = np.array([[1, 2, 3],  # The first column of 1s is for the intercept\n",
    "              [1, 3, 4],\n",
    "              [1, 5, 6],\n",
    "              [1, 7, 8],\n",
    "              [1, 9, 10]])\n",
    "\n",
    "y = np.array([4, 5, 6, 7, 8])  # Target variable\n",
    "\n",
    "# Step 1: Calculate the coefficients (beta) using the Normal Equation\n",
    "X_T = X.T  # Transpose of X\n",
    "beta = np.linalg.inv(X_T @ X) @ X_T @ y  # Normal equation: (X^T X)^-1 X^T y\n",
    "\n",
    "# Output the coefficients\n",
    "print(\"Coefficients (beta):\", beta)\n",
    "\n",
    "# Step 2: Make predictions using the calculated coefficients\n",
    "# To predict, we use the formula y = X * beta\n",
    "y_pred = X @ beta\n",
    "\n",
    "# Output predictions\n",
    "print(\"Predicted values:\", y_pred)\n",
    "\n",
    "# Step 3: Calculate the Mean Squared Error (MSE) for evaluation\n",
    "mse = np.mean((y - y_pred) ** 2)\n",
    "\n",
    "# Output the Mean Squared Error\n",
    "print(\"Mean Squared Error:\", mse)\n",
    "\n",
    "# Predict a new value\n",
    "new_data = np.array([1, 10, 12])  # Include 1 for the intercept\n",
    "new_pred = new_data @ beta\n",
    "print(\"Predicted value for new input:\", new_pred)\n"
   ]
  },
  {
   "cell_type": "code",
   "execution_count": null,
   "id": "5ae82654-57df-484c-a975-6aedb871d599",
   "metadata": {},
   "outputs": [],
   "source": []
  }
 ],
 "metadata": {
  "kernelspec": {
   "display_name": "Python 3 (ipykernel)",
   "language": "python",
   "name": "python3"
  },
  "language_info": {
   "codemirror_mode": {
    "name": "ipython",
    "version": 3
   },
   "file_extension": ".py",
   "mimetype": "text/x-python",
   "name": "python",
   "nbconvert_exporter": "python",
   "pygments_lexer": "ipython3",
   "version": "3.12.4"
  }
 },
 "nbformat": 4,
 "nbformat_minor": 5
}
