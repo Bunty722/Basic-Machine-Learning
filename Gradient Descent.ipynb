{
 "cells": [
  {
   "cell_type": "markdown",
   "id": "83783993-af7e-497a-9e56-5505f62891e5",
   "metadata": {},
   "source": [
    "### Gradient Descent"
   ]
  },
  {
   "cell_type": "code",
   "execution_count": 4,
   "id": "441aea00-6471-4980-920d-f037ac3aaad6",
   "metadata": {},
   "outputs": [
    {
     "name": "stdout",
     "output_type": "stream",
     "text": [
      "Intercept (beta_0): 0.12553448828183797\n",
      "Slope (beta_1): 0.8929273561927671\n",
      "Predicted values: [1.01846184 1.9113892  2.80431656 3.69724391 4.59017127]\n",
      "Mean Squared Error: 0.1401186772439748\n",
      "Predicted value for X = 6: 5.483098625438441\n"
     ]
    }
   ],
   "source": [
    "import numpy as np\n",
    "\n",
    "# Example dataset (1 feature: X, target: y)\n",
    "X = np.array([1, 2, 3, 4, 5])\n",
    "y = np.array([1, 2, 3, 3, 5])\n",
    "\n",
    "# Parameters\n",
    "alpha = 0.01  # Learning rate\n",
    "iterations = 1000  # Number of iterations\n",
    "m = len(X)  # Number of training examples\n",
    "\n",
    "# Initialize coefficients (weights)\n",
    "beta_0 = 0  # Intercept\n",
    "beta_1 = 0  # Slope\n",
    "\n",
    "# Gradient Descent Algorithm\n",
    "for _ in range(iterations):\n",
    "    # Calculate predictions\n",
    "    y_pred = beta_0 + beta_1 * X\n",
    "    \n",
    "    # Calculate gradients\n",
    "    gradient_0 = -(1/m) * np.sum(y - y_pred)  # Gradient w.r.t beta_0\n",
    "    gradient_1 = -(1/m) * np.sum((y - y_pred) * X)  # Gradient w.r.t beta_1\n",
    "    \n",
    "    # Update coefficients\n",
    "    beta_0 = beta_0 - alpha * gradient_0\n",
    "    beta_1 = beta_1 - alpha * gradient_1\n",
    "\n",
    "# Final coefficients\n",
    "print(f\"Intercept (beta_0): {beta_0}\")\n",
    "print(f\"Slope (beta_1): {beta_1}\")\n",
    "\n",
    "# Make predictions\n",
    "y_final_pred = beta_0 + beta_1 * X\n",
    "print(f\"Predicted values: {y_final_pred}\")\n",
    "\n",
    "# Calculate Mean Squared Error (MSE)\n",
    "mse = np.mean((y - y_final_pred) ** 2)\n",
    "print(f\"Mean Squared Error: {mse}\")\n",
    "\n",
    "# Predict a new value\n",
    "new_X = 6\n",
    "new_y_pred = beta_0 + beta_1 * new_X\n",
    "print(f\"Predicted value for X = {new_X}: {new_y_pred}\")\n"
   ]
  },
  {
   "cell_type": "code",
   "execution_count": null,
   "id": "f4eb9c0e-fcbe-4d3e-9989-e8ccad525c9d",
   "metadata": {},
   "outputs": [],
   "source": []
  }
 ],
 "metadata": {
  "kernelspec": {
   "display_name": "Python 3 (ipykernel)",
   "language": "python",
   "name": "python3"
  },
  "language_info": {
   "codemirror_mode": {
    "name": "ipython",
    "version": 3
   },
   "file_extension": ".py",
   "mimetype": "text/x-python",
   "name": "python",
   "nbconvert_exporter": "python",
   "pygments_lexer": "ipython3",
   "version": "3.12.4"
  }
 },
 "nbformat": 4,
 "nbformat_minor": 5
}
