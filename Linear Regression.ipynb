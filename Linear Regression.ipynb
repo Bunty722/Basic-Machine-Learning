{
 "cells": [
  {
   "cell_type": "markdown",
   "id": "b0a21f76-6fb7-41d6-8476-5e2fd71a081c",
   "metadata": {},
   "source": [
    "### Linear Regression"
   ]
  },
  {
   "cell_type": "code",
   "execution_count": 6,
   "id": "b2372831-c27e-4c28-a873-0973dd014462",
   "metadata": {},
   "outputs": [
    {
     "name": "stdout",
     "output_type": "stream",
     "text": [
      "Intercept (beta_0): 0.09999999999999964\n",
      "Slope (beta_1): 0.9\n",
      "Predicted values: [1.  1.9 2.8 3.7 4.6]\n",
      "Mean Squared Error: 0.13999999999999999\n",
      "Predicted value for X = 6: 5.5\n"
     ]
    }
   ],
   "source": [
    "import numpy as np\n",
    "\n",
    "# Example dataset: 1 feature (X) and target variable (y)\n",
    "X = np.array([1, 2, 3, 4, 5])\n",
    "y = np.array([1, 2, 3, 3, 5])\n",
    "\n",
    "# Step 1: Calculate the coefficients using least-squares method\n",
    "n = len(X)\n",
    "\n",
    "# Calculate means of X and y\n",
    "X_mean = np.mean(X)\n",
    "y_mean = np.mean(y)\n",
    "\n",
    "# Calculate the slope (beta_1)\n",
    "numerator = np.sum((X - X_mean) * (y - y_mean))\n",
    "denominator = np.sum((X - X_mean) ** 2)\n",
    "beta_1 = numerator / denominator\n",
    "\n",
    "# Calculate the intercept (beta_0)\n",
    "beta_0 = y_mean - (beta_1 * X_mean)\n",
    "\n",
    "# Output the coefficients\n",
    "print(f\"Intercept (beta_0): {beta_0}\")\n",
    "print(f\"Slope (beta_1): {beta_1}\")\n",
    "\n",
    "# Step 2: Make predictions\n",
    "def predict(X, beta_0, beta_1):\n",
    "    return beta_0 + beta_1 * X\n",
    "\n",
    "# Predicting values\n",
    "y_pred = predict(X, beta_0, beta_1)\n",
    "print(f\"Predicted values: {y_pred}\")\n",
    "\n",
    "# Step 3: Calculate Mean Squared Error (MSE)\n",
    "mse = np.mean((y - y_pred) ** 2)\n",
    "print(f\"Mean Squared Error: {mse}\")\n",
    "\n",
    "# Predict a new value\n",
    "new_X = 6\n",
    "new_y_pred = predict(new_X, beta_0, beta_1)\n",
    "print(f\"Predicted value for X = {new_X}: {new_y_pred}\")\n"
   ]
  },
  {
   "cell_type": "code",
   "execution_count": null,
   "id": "a7535900-c0b0-4d6d-8708-03657bc08634",
   "metadata": {},
   "outputs": [],
   "source": []
  }
 ],
 "metadata": {
  "kernelspec": {
   "display_name": "Python 3 (ipykernel)",
   "language": "python",
   "name": "python3"
  },
  "language_info": {
   "codemirror_mode": {
    "name": "ipython",
    "version": 3
   },
   "file_extension": ".py",
   "mimetype": "text/x-python",
   "name": "python",
   "nbconvert_exporter": "python",
   "pygments_lexer": "ipython3",
   "version": "3.12.4"
  }
 },
 "nbformat": 4,
 "nbformat_minor": 5
}
